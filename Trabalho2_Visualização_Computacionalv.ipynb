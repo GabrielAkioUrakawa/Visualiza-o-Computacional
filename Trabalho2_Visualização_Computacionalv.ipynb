{
  "cells": [
    {
      "cell_type": "markdown",
      "metadata": {
        "id": "OE7dUAYQk8tH"
      },
      "source": [
        "## Gabriel Akio Urakawa - 11795912\n",
        "## Lucas Xavier Leite - 10783347\n",
        "\n",
        "Projeto - Etapa 2  \n",
        "SCC0252 - Visualização Computacional (2023)\n",
        "Profa Maria Cristina Ferreira de Oliveira"
      ]
    },
    {
      "cell_type": "markdown",
      "metadata": {
        "id": "Ku_a-4GS_IbA"
      },
      "source": [
        "# Introdução\n",
        "\n",
        "Para essa etapa do trabalho não usamos o google collab, foi utilizado jupyter e rodado nos localhost de porta 8050 e 8052.\n",
        "\n",
        "Foi escolhido o database do IMBD TOP1000 fornecido pela professora. Uma vez que os dados foram baixados, realizamos o upload em repositório pessoal do GitHub e realizamos o trabalho. Primeiramente observamos os dados e fizemos um pré-processamento de dados pelo que achamos cabível."
      ]
    },
    {
      "cell_type": "code",
      "execution_count": 10,
      "metadata": {
        "id": "RqXpHPXMuQI3"
      },
      "outputs": [],
      "source": [
        "import os\n",
        "import math\n",
        "import numpy as np\n",
        "import pandas as pd\n",
        "import seaborn as sns\n",
        "import plotly.express as px\n",
        "import plotly.graph_objs as go\n",
        "import dash\n",
        "from dash import dcc\n",
        "from dash import html"
      ]
    },
    {
      "cell_type": "code",
      "execution_count": 11,
      "metadata": {
        "colab": {
          "base_uri": "https://localhost:8080/"
        },
        "id": "7xVAHZRtkxa-",
        "outputId": "08174cc8-0183-47be-840f-7f7a8cbd111f"
      },
      "outputs": [],
      "source": [
        "# obtencao da base de dados do kaggle que foi colocada no github\n",
        "import wget\n",
        "if not os.path.isfile('imdb_top_1000.csv'):\n",
        "  !python -m wget https://raw.githubusercontent.com/GabrielAkioUrakawa/Visualizacao-Computacional/main/archive/imdb_top_1000.csv"
      ]
    },
    {
      "cell_type": "markdown",
      "metadata": {},
      "source": [
        "## Conjunto de dados"
      ]
    },
    {
      "cell_type": "markdown",
      "metadata": {
        "id": "gEm5SnOr72FZ"
      },
      "source": [
        "# Pré-procesamento"
      ]
    },
    {
      "cell_type": "markdown",
      "metadata": {},
      "source": [
        "Considerando que o pré-processamento é igual à da primeira entrega, tiramos os prints que mostravam parte do raciocínio e encurtamos os comentários dessa primeira parte."
      ]
    },
    {
      "cell_type": "markdown",
      "metadata": {
        "id": "dRSENY3c-7Lo"
      },
      "source": [
        "Usando um df.info() observamos que, em primeiro momento, haviam 3 colunas que haviam valores invalidos para nossas visualizações (Certificate, Meta_score e Gross), percebemos também que a receita (Gross), a data de lançamento e o tempo de filme (Runtime) estavam em tipo de dado inadequados. Além disso, os valores da coluna Genre está agrupada de forma inadequada pra visualização e será manipulada posteriormente"
      ]
    },
    {
      "cell_type": "markdown",
      "metadata": {
        "id": "akWJmE7k8dvH"
      },
      "source": [
        "Realizando as devidas alterações, verificamos a existência de algum valor repetido ou inválido. No caso de valores inválidos, decidimos criar um novo dataframe chamado dfClean para armazenar os dados limpos. Assim, escolheríamos entre usar df e dfClean de acordo com os dados utilizados em cada visualização. Além disso, consideramos as colunas Certificate, Overview e Poster_Link como irrelevantes para nossa aplicação e, assim, \"dropamos\", ou removemos, as três colunas."
      ]
    },
    {
      "cell_type": "code",
      "execution_count": 12,
      "metadata": {},
      "outputs": [],
      "source": [
        "# preprocessamento de dados\n",
        "df = pd.read_csv('./imdb_top_1000.csv', encoding='latin-1')\n",
        "\n",
        "df['Gross'] = df['Gross'].replace(',','', regex=True)\n",
        "df['Gross'] = pd.to_numeric(df['Gross'], errors='coerce', downcast='integer')\n",
        "df['Released_Year'] = pd.to_numeric(df['Released_Year'], errors='coerce', downcast='integer')\n",
        "df['Runtime'] = df['Runtime'].replace(\" min\",'', regex=True)\n",
        "df['Runtime'] = pd.to_numeric(df['Runtime'], errors='coerce', downcast='integer')\n",
        "\n",
        "\n",
        "df = df.drop(['Certificate'], axis=1)\n",
        "df = df.drop(['Overview'], axis=1)\n",
        "df = df.drop(['Poster_Link'], axis=1)\n",
        "\n",
        "dfClean = df.dropna()"
      ]
    },
    {
      "cell_type": "markdown",
      "metadata": {
        "id": "LvLR-pvc8YHQ"
      },
      "source": [
        "# Visualização"
      ]
    },
    {
      "cell_type": "markdown",
      "metadata": {
        "id": "3uSuqPebAiUz"
      },
      "source": [
        "### Observações sobre os filmes em relação a ano e gênero\n",
        "\n",
        "Pensamos em observar como os gêneros dos filmes foram evoluindo ao longo dos anos, assim fizemos duas visualizações nesse dashboard para comparar e chegar em conclusões, por quantidade lançada e por nota máxima. Por exemplo, \n",
        "\n",
        "Para a quantidade lançada, fizemos um gráfico de barras agrupadas para visualizar o total somado todos os gêneros e conseguir ver o impacto de cada gênero no total.\n",
        "\n",
        "Para a nota máxima, fizemos um gráfico de barras agrupada para comparar facilmente entre dois gêneros pelos anos e observar padrões."
      ]
    },
    {
      "cell_type": "markdown",
      "metadata": {},
      "source": [
        "Com as nossas visualização podemos observar o crescimento das notas e da quantidade de filmes lançados pelo gênero e intervalo de anos que o usuário desejar, assim, pode-se observar se existe um padrão de lançamento ou não. Também podemos ver o crescimento da industria do cinema em relação a diferentes gêneros e ver a qualidade desses filmes segundo críticos. "
      ]
    },
    {
      "cell_type": "code",
      "execution_count": 27,
      "metadata": {},
      "outputs": [
        {
          "data": {
            "text/html": [
              "\n",
              "        <iframe\n",
              "            width=\"100%\"\n",
              "            height=\"650\"\n",
              "            src=\"http://127.0.0.1:8050/\"\n",
              "            frameborder=\"0\"\n",
              "            allowfullscreen\n",
              "            \n",
              "        ></iframe>\n",
              "        "
            ],
            "text/plain": [
              "<IPython.lib.display.IFrame at 0x1ecc6e26810>"
            ]
          },
          "metadata": {},
          "output_type": "display_data"
        }
      ],
      "source": [
        "movies_genres = dfClean.drop('Genre', axis=1).join(dfClean.Genre.str.split(\", \", expand=True).stack().reset_index(drop=True, level=1).rename('Genre'))\n",
        "\n",
        "movies_options = list(movies_genres[\"Genre\"].unique())\n",
        "years_options = list(movies_genres[\"Released_Year\"].sort_values().unique().astype('int32'))\n",
        "\n",
        "app = dash.Dash()\n",
        "\n",
        "app.layout = html.Div([\n",
        "    html.H2(\"Selecione os gêneros a serem visualizados:\", style={\"text-align\": \"center\"}),\n",
        "    html.Div(                        \n",
        "        [   \n",
        "            html.Div([\n",
        "                dcc.Checklist(\n",
        "                    id=\"Genres\",\n",
        "                    options=movies_options,\n",
        "                    value=[\"Drama\"],\n",
        "                    inline=True,\n",
        "                    style={\n",
        "                        \"display\": 'flex',\n",
        "                        \"padding\": \"5px 10px\",\n",
        "                        \"flex-wrap\": \"wrap\",\n",
        "                        \"justify-content\": \"space-between\",\n",
        "                        \"align-items\": \"center\",\n",
        "                        \"width\" :\"70%\"\n",
        "                        }\n",
        "                )], style={\"display\": 'flex',\"justify-content\": \"center\"}\n",
        "            ),\n",
        "            html.Div([\n",
        "                html.H2(\"Selecione o intervalo de anos a serem visualizados:\", style={\"text-align\": \"center\"}),\n",
        "                dcc.RangeSlider(\n",
        "                    years_options[1],           \n",
        "                    2025, \n",
        "                    10, \n",
        "                    marks={i: f'{i}' for i in range(years_options[1], 2026, 10)}, \n",
        "                    value=[1985, 2005], \n",
        "                    id='Years'\n",
        "                )]\n",
        "            )\n",
        "        ],\n",
        "        style={'width': '100%',              \n",
        "               'display': 'inline-block'}),\n",
        "    dcc.Graph(id='graph1'),\n",
        "    dcc.Graph(id='graph2'),\n",
        "], style={\"display\": 'flex', \"flex-direction\": \"column\", 'height':'100%'})\n",
        "\n",
        "\n",
        "@app.callback(\n",
        "    dash.dependencies.Output('graph1', 'figure'),\n",
        "    [dash.dependencies.Input('Genres', 'value'), dash.dependencies.Input('Years', 'value')])\n",
        "def update_graph1(Genres, Years):\n",
        "    df_plot = movies_genres[movies_genres['Genre'].isin(Genres)]\n",
        "    df_plot = df_plot[df_plot[\"Released_Year\"] > Years[0]]\n",
        "    df_plot = df_plot[df_plot[\"Released_Year\"] < Years[1]]\n",
        "\n",
        "    pv = pd.pivot_table(\n",
        "        df_plot,\n",
        "        index=['Released_Year'],\n",
        "        columns=[\"Genre\"],\n",
        "        values=[\"Runtime\"],\n",
        "        aggfunc='count',\n",
        "        fill_value=0) \n",
        "    \n",
        "    traces = [go.Bar(x=pv.index, y=pv[('Runtime', g)], name=g) for g in Genres]\n",
        "    return {\n",
        "        'data': traces,\n",
        "        'layout':\n",
        "        go.Layout(\n",
        "            title='Quantidade de filmes lançados do(s) gênero(s) {} por ano'.format(Genres),\n",
        "            xaxis=dict(title='Ano'),\n",
        "            yaxis=dict(title='Quantidade de Filmes Lançados'),\n",
        "            barmode='stack'\n",
        "            )\n",
        "    }\n",
        "@app.callback(\n",
        "    dash.dependencies.Output('graph2', 'figure'),\n",
        "    [dash.dependencies.Input('Genres', 'value'), dash.dependencies.Input('Years', 'value')])\n",
        "def update_graph2(Genres, Years):\n",
        "    movies_genres['Released_Year'] = pd.to_numeric(movies_genres['Released_Year'], errors='raise', downcast='integer')\n",
        "    df_plot = movies_genres[(movies_genres['Genre'].isin(Genres))]\n",
        "    df_plot = df_plot[df_plot[\"Released_Year\"] > Years[0]]\n",
        "    df_plot = df_plot[df_plot[\"Released_Year\"] < Years[1]]\n",
        "\n",
        "    pv = pd.pivot_table(\n",
        "        df_plot,\n",
        "        index=['Released_Year'],\n",
        "        columns=[\"Genre\"],\n",
        "        values=[\"Meta_score\"],\n",
        "        aggfunc='mean',\n",
        "        fill_value=0) \n",
        "    # g4 = sns.catplot(data=selected_genres, x='Released_Year', y='Meta_score', hue='Genre', kind='bar', errorbar=None, height=12, aspect=2, palette='bright')\n",
        "\n",
        "    traces = [go.Bar(x=pv.index, y=pv[('Meta_score', g)], name=g) for g in Genres]\n",
        "    layout = go.Layout(\n",
        "            title='Nota média do(s) gênero(s) {} por ano'.format(Genres),\n",
        "            xaxis=dict(title='Ano'),\n",
        "            yaxis=dict(title='Nota média obtida'),\n",
        "            barmode='group'\n",
        "            )\n",
        "    return {\n",
        "        'data': traces,\n",
        "        'layout': layout\n",
        "    }\n",
        "\n",
        "if __name__ == '__main__':\n",
        "    app.run_server(debug=True)"
      ]
    },
    {
      "cell_type": "markdown",
      "metadata": {
        "id": "0iXoTrKiEtID"
      },
      "source": [
        "### Receita média de filmes por gênero e ano\n",
        "\n",
        "Finalmente, queremos visualizar a receita média de acordo com o ano de lançamento. Para acomodar a visualização, selecionamos apenas alguns gêneros de filmes. Com as duas informações em mãos, optamos por criar um mapa de calor (heatmap) da receita média de cada gênero escolhido de acordo com o ano de lançamento. Ele complementa a visualização do dashboard anterior e permite a comparação de modo visualmente facilitado. De modo análogo ao anterior, podemos selecionar intervalo de ano e os gêneros a serem visualizados."
      ]
    },
    {
      "cell_type": "code",
      "execution_count": 44,
      "metadata": {},
      "outputs": [
        {
          "data": {
            "text/html": [
              "\n",
              "        <iframe\n",
              "            width=\"100%\"\n",
              "            height=\"650\"\n",
              "            src=\"http://127.0.0.1:8052/\"\n",
              "            frameborder=\"0\"\n",
              "            allowfullscreen\n",
              "            \n",
              "        ></iframe>\n",
              "        "
            ],
            "text/plain": [
              "<IPython.lib.display.IFrame at 0x1ecca792b90>"
            ]
          },
          "metadata": {},
          "output_type": "display_data"
        }
      ],
      "source": [
        "movies_genres = dfClean.drop('Genre', axis=1).join(dfClean.Genre.str.split(\", \", expand=True)).rename(columns={0: 'Genre 1', 1: 'Genre 2', 2: 'Genre 3'})\n",
        "movies_genres = movies_genres[['Genre 1','Genre 3','Genre 2', 'Released_Year', 'Gross']]\n",
        "\n",
        "app2 = dash.Dash()\n",
        "\n",
        "app2.layout = html.Div([\n",
        "    html.H2(\"Selecione os gêneros a serem visualizados:\", style={\"text-align\": \"center\"}),\n",
        "    html.Div(                        \n",
        "        [   \n",
        "            html.Div(\n",
        "                dcc.Checklist(\n",
        "                    id=\"Genres\",\n",
        "                    options=movies_options,\n",
        "                    value=['Action', 'Mystery', 'Sci-Fi', 'Thriller', 'Comedy', 'Romance'],\n",
        "                    inline=True,\n",
        "                    style={\n",
        "                        \"display\": 'flex',\n",
        "                        \"padding\": \"5px 10px\",\n",
        "                        \"flex-wrap\": \"wrap\",\n",
        "                        \"justify-content\": \"space-between\",\n",
        "                        \"align-items\": \"center\",\n",
        "                        \"width\" :\"70%\"\n",
        "                        }\n",
        "                ), style={\"display\": 'flex',\"justify-content\": \"center\"}\n",
        "            ),\n",
        "            html.Div([\n",
        "                html.H2(\"Selecione o intervalo de anos a serem visualizados:\", style={\"text-align\": \"center\"}),\n",
        "                dcc.RangeSlider(\n",
        "                    2000,           \n",
        "                    2020, \n",
        "                    10, \n",
        "                    marks={i: f'{i}' for i in range(2000, 2021, 1)}, \n",
        "                    value=[2005, 2015], \n",
        "                    id='Years'\n",
        "                )],\n",
        "            )\n",
        "        ],\n",
        "        style={'width': '100%',              \n",
        "               'display': 'inline-block'}),\n",
        "    dcc.Graph(id='graph')\n",
        "])\n",
        "\n",
        "\n",
        "@app2.callback(\n",
        "    dash.dependencies.Output('graph', 'figure'),\n",
        "    [dash.dependencies.Input('Genres', 'value'), dash.dependencies.Input('Years', 'value')])\n",
        "def update_graph(Genres, Years):\n",
        "    Years = range(Years[0], Years[1])    \n",
        "    \n",
        "    heatmap_matrix = np.zeros((len(Genres), len(Years)))\n",
        "    \n",
        "    for i in range(len(Genres)):\n",
        "        for j in range(len(Years)):\n",
        "            aux = movies_genres.loc[((movies_genres['Genre 1'] == Genres[i]) | (movies_genres['Genre 2'] == Genres[i]) | (movies_genres['Genre 3'] == Genres[i])) & (movies_genres['Released_Year'] == Years[j]), 'Gross'].mean()\n",
        "            if math.isnan(aux):\n",
        "                heatmap_matrix[i][j] = 0\n",
        "            else:\n",
        "                heatmap_matrix[i][j] = aux\n",
        "    heatmap_df = pd.DataFrame(heatmap_matrix, columns = Years, index = Genres)\n",
        "    \n",
        "    return px.imshow(heatmap_df, text_auto=True, aspect=\"auto\",\n",
        "                labels=dict(x=\"Anos\", y=\"Gênero\", color=\"Receita\"), title=\"Receita média dos filmes por ano e por gênero\"\n",
        "               )\n",
        "\n",
        "\n",
        "if __name__ == '__main__':\n",
        "    app2.run_server(debug=True, port=\"8052\")"
      ]
    }
  ],
  "metadata": {
    "colab": {
      "collapsed_sections": [
        "gEm5SnOr72FZ",
        "dRSENY3c-7Lo",
        "akWJmE7k8dvH"
      ],
      "provenance": []
    },
    "kernelspec": {
      "display_name": "Python 3",
      "name": "python3"
    },
    "language_info": {
      "codemirror_mode": {
        "name": "ipython",
        "version": 3
      },
      "file_extension": ".py",
      "mimetype": "text/x-python",
      "name": "python",
      "nbconvert_exporter": "python",
      "pygments_lexer": "ipython3",
      "version": "3.11.5"
    }
  },
  "nbformat": 4,
  "nbformat_minor": 0
}
